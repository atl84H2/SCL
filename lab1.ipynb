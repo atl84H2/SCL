{
 "cells": [
  {
   "cell_type": "markdown",
   "id": "b2433482",
   "metadata": {},
   "source": [
    "### Задача 1\n",
    "Из первого уравнения системы:\n",
    "$$I_S(N_S-1)=0 \\Leftrightarrow N_S=1$$\n",
    "Из второго уравнения:\n",
    "$$J_{thr}-N_S(1+I_S)=0 \\Leftrightarrow I_S=J_{thr}-1\\Leftrightarrow J_{thr}=1$$\n",
    "### Задача 2"
   ]
  },
  {
   "cell_type": "markdown",
   "id": "2cd63a2d-976b-4aa6-8883-b8c7ca99985b",
   "metadata": {
    "id": "2cd63a2d-976b-4aa6-8883-b8c7ca99985b"
   },
   "source": [
    "Импорт необходимых библиотек"
   ]
  },
  {
   "cell_type": "code",
   "execution_count": 2,
   "id": "9f5cd96d-d430-4226-9501-2fa09a53d36a",
   "metadata": {
    "executionInfo": {
     "elapsed": 1024,
     "status": "ok",
     "timestamp": 1645018459710,
     "user": {
      "displayName": "Gleb Zhuravlev",
      "photoUrl": "https://lh3.googleusercontent.com/a/default-user=s64",
      "userId": "00380851654043785944"
     },
     "user_tz": -180
    },
    "id": "9f5cd96d-d430-4226-9501-2fa09a53d36a"
   },
   "outputs": [],
   "source": [
    "from scipy.integrate import solve_ivp\n",
    "import matplotlib.pyplot as plt\n",
    "import numpy as np\n",
    "import matplotlib as mpl\n",
    "mpl.use('webagg')"
   ]
  },
  {
   "cell_type": "markdown",
   "id": "50aab893-8e13-4671-a219-c9d11cc7ce00",
   "metadata": {
    "id": "50aab893-8e13-4671-a219-c9d11cc7ce00"
   },
   "source": [
    "Определение системы"
   ]
  },
  {
   "cell_type": "code",
   "execution_count": 3,
   "id": "4cc45515-abc3-439a-8389-33950dea49ee",
   "metadata": {
    "executionInfo": {
     "elapsed": 26,
     "status": "ok",
     "timestamp": 1645018459716,
     "user": {
      "displayName": "Gleb Zhuravlev",
      "photoUrl": "https://lh3.googleusercontent.com/a/default-user=s64",
      "userId": "00380851654043785944"
     },
     "user_tz": -180
    },
    "id": "4cc45515-abc3-439a-8389-33950dea49ee"
   },
   "outputs": [],
   "source": [
    "def odes(t,y):\n",
    "    I, N = y\n",
    "    return [(N-1)*I,eta_g*(J-N*(1+I))]"
   ]
  },
  {
   "cell_type": "markdown",
   "id": "50c22a36-fc9e-4be1-bdc0-c6e99ecc2bde",
   "metadata": {
    "id": "50c22a36-fc9e-4be1-bdc0-c6e99ecc2bde"
   },
   "source": [
    "Расчет коэффициентов"
   ]
  },
  {
   "cell_type": "code",
   "execution_count": 4,
   "id": "b0dac097-d3b6-456a-a0f0-df47818c18bb",
   "metadata": {
    "executionInfo": {
     "elapsed": 15,
     "status": "ok",
     "timestamp": 1645018463890,
     "user": {
      "displayName": "Gleb Zhuravlev",
      "photoUrl": "https://lh3.googleusercontent.com/a/default-user=s64",
      "userId": "00380851654043785944"
     },
     "user_tz": -180
    },
    "id": "b0dac097-d3b6-456a-a0f0-df47818c18bb"
   },
   "outputs": [],
   "source": [
    "tau_p=20*10**(-12)\n",
    "tau_c=1*10**(-9)\n",
    "eta_g=tau_p/tau_c\n",
    "J=4"
   ]
  },
  {
   "cell_type": "markdown",
   "id": "c2077c78-9a89-41ae-ab31-c80613e8709c",
   "metadata": {
    "id": "c2077c78-9a89-41ae-ab31-c80613e8709c"
   },
   "source": [
    "Начальные значения и вектор времени"
   ]
  },
  {
   "cell_type": "code",
   "execution_count": 5,
   "id": "1e45cfce-cdfa-4d09-8f8c-e15ffddd322a",
   "metadata": {
    "executionInfo": {
     "elapsed": 14,
     "status": "ok",
     "timestamp": 1645018467403,
     "user": {
      "displayName": "Gleb Zhuravlev",
      "photoUrl": "https://lh3.googleusercontent.com/a/default-user=s64",
      "userId": "00380851654043785944"
     },
     "user_tz": -180
    },
    "id": "1e45cfce-cdfa-4d09-8f8c-e15ffddd322a"
   },
   "outputs": [],
   "source": [
    "y0=(3,2)\n",
    "t=np.linspace(0,500,5000)"
   ]
  },
  {
   "cell_type": "markdown",
   "id": "72201df1-edf3-48ae-802a-b2893978e84d",
   "metadata": {
    "id": "72201df1-edf3-48ae-802a-b2893978e84d"
   },
   "source": [
    "Вызов солвера и результат"
   ]
  },
  {
   "cell_type": "code",
   "execution_count": 6,
   "id": "896821e5-3915-4274-8b28-33f63c6a2f98",
   "metadata": {
    "colab": {
     "base_uri": "https://localhost:8080/"
    },
    "executionInfo": {
     "elapsed": 489,
     "status": "ok",
     "timestamp": 1645018473524,
     "user": {
      "displayName": "Gleb Zhuravlev",
      "photoUrl": "https://lh3.googleusercontent.com/a/default-user=s64",
      "userId": "00380851654043785944"
     },
     "user_tz": -180
    },
    "id": "896821e5-3915-4274-8b28-33f63c6a2f98",
    "outputId": "2673de63-08fb-4d86-978b-3409d9540c08"
   },
   "outputs": [
    {
     "data": {
      "text/plain": [
       "  message: 'The solver successfully reached the end of the integration interval.'\n",
       "     nfev: 1358\n",
       "     njev: 0\n",
       "      nlu: 0\n",
       "      sol: None\n",
       "   status: 0\n",
       "  success: True\n",
       "        t: array([0.00000000e+00, 1.00020004e-01, 2.00040008e-01, ...,\n",
       "       4.99799960e+02, 4.99899980e+02, 5.00000000e+02])\n",
       " t_events: None\n",
       "        y: array([[3.        , 3.31418844, 3.65791735, ..., 2.99999579, 2.99999563,\n",
       "        2.99999548],\n",
       "       [2.        , 1.99141473, 1.98159931, ..., 0.99999949, 0.9999995 ,\n",
       "        0.99999952]])\n",
       " y_events: None"
      ]
     },
     "execution_count": 6,
     "metadata": {},
     "output_type": "execute_result"
    }
   ],
   "source": [
    "solution_ivp=solve_ivp(odes,t_span=[0,max(t)], t_eval=t, y0=y0, rtol=1e-8)\n",
    "solution_ivp"
   ]
  },
  {
   "cell_type": "markdown",
   "id": "4a7f9844-bcfb-4307-8677-6cd5e8c0d9c5",
   "metadata": {
    "id": "4a7f9844-bcfb-4307-8677-6cd5e8c0d9c5"
   },
   "source": [
    "Обработка результата и переход к действительному времени"
   ]
  },
  {
   "cell_type": "code",
   "execution_count": 7,
   "id": "5abaee5c-aca7-40f2-9969-67a24f25bdf7",
   "metadata": {
    "executionInfo": {
     "elapsed": 16,
     "status": "ok",
     "timestamp": 1645018477118,
     "user": {
      "displayName": "Gleb Zhuravlev",
      "photoUrl": "https://lh3.googleusercontent.com/a/default-user=s64",
      "userId": "00380851654043785944"
     },
     "user_tz": -180
    },
    "id": "5abaee5c-aca7-40f2-9969-67a24f25bdf7"
   },
   "outputs": [],
   "source": [
    "It=solution_ivp.y[0]\n",
    "Nt=solution_ivp.y[1]\n",
    "t_ns=solution_ivp.t*tau_p*10**9"
   ]
  },
  {
   "cell_type": "markdown",
   "id": "408bf9e5-ee2b-4cb1-896d-4889e59f9b45",
   "metadata": {
    "id": "408bf9e5-ee2b-4cb1-896d-4889e59f9b45"
   },
   "source": [
    "График"
   ]
  },
  {
   "cell_type": "code",
   "execution_count": 8,
   "id": "2000ade9-e7de-4c55-bbaa-670d8ce1c035",
   "metadata": {
    "colab": {
     "base_uri": "https://localhost:8080/",
     "height": 295
    },
    "executionInfo": {
     "elapsed": 1460,
     "status": "ok",
     "timestamp": 1645018481167,
     "user": {
      "displayName": "Gleb Zhuravlev",
      "photoUrl": "https://lh3.googleusercontent.com/a/default-user=s64",
      "userId": "00380851654043785944"
     },
     "user_tz": -180
    },
    "id": "2000ade9-e7de-4c55-bbaa-670d8ce1c035",
    "outputId": "28122da4-aa5d-4f61-9e17-4765e43dbaff"
   },
   "outputs": [
    {
     "name": "stdout",
     "output_type": "stream",
     "text": [
      "Press Ctrl+C to stop WebAgg server\n"
     ]
    },
    {
     "ename": "RuntimeError",
     "evalue": "This event loop is already running",
     "output_type": "error",
     "traceback": [
      "\u001b[1;31m---------------------------------------------------------------------------\u001b[0m",
      "\u001b[1;31mRuntimeError\u001b[0m                              Traceback (most recent call last)",
      "\u001b[1;32m~\\AppData\\Local\\Temp/ipykernel_11304/1205758499.py\u001b[0m in \u001b[0;36m<module>\u001b[1;34m\u001b[0m\n\u001b[0;32m      8\u001b[0m \u001b[0mplt\u001b[0m\u001b[1;33m.\u001b[0m\u001b[0mgrid\u001b[0m\u001b[1;33m(\u001b[0m\u001b[1;33m)\u001b[0m\u001b[1;33m\u001b[0m\u001b[1;33m\u001b[0m\u001b[0m\n\u001b[0;32m      9\u001b[0m \u001b[0mplt\u001b[0m\u001b[1;33m.\u001b[0m\u001b[0msavefig\u001b[0m\u001b[1;33m(\u001b[0m\u001b[1;34m'graph1FINAL.png'\u001b[0m\u001b[1;33m,\u001b[0m\u001b[0mdpi\u001b[0m\u001b[1;33m=\u001b[0m\u001b[1;36m600\u001b[0m\u001b[1;33m)\u001b[0m\u001b[1;33m\u001b[0m\u001b[1;33m\u001b[0m\u001b[0m\n\u001b[1;32m---> 10\u001b[1;33m \u001b[0mplt\u001b[0m\u001b[1;33m.\u001b[0m\u001b[0mshow\u001b[0m\u001b[1;33m(\u001b[0m\u001b[1;33m)\u001b[0m\u001b[1;33m\u001b[0m\u001b[1;33m\u001b[0m\u001b[0m\n\u001b[0m",
      "\u001b[1;32m~\\anaconda3\\lib\\site-packages\\matplotlib\\pyplot.py\u001b[0m in \u001b[0;36mshow\u001b[1;34m(*args, **kwargs)\u001b[0m\n\u001b[0;32m    376\u001b[0m     \"\"\"\n\u001b[0;32m    377\u001b[0m     \u001b[0m_warn_if_gui_out_of_main_thread\u001b[0m\u001b[1;33m(\u001b[0m\u001b[1;33m)\u001b[0m\u001b[1;33m\u001b[0m\u001b[1;33m\u001b[0m\u001b[0m\n\u001b[1;32m--> 378\u001b[1;33m     \u001b[1;32mreturn\u001b[0m \u001b[0m_backend_mod\u001b[0m\u001b[1;33m.\u001b[0m\u001b[0mshow\u001b[0m\u001b[1;33m(\u001b[0m\u001b[1;33m*\u001b[0m\u001b[0margs\u001b[0m\u001b[1;33m,\u001b[0m \u001b[1;33m**\u001b[0m\u001b[0mkwargs\u001b[0m\u001b[1;33m)\u001b[0m\u001b[1;33m\u001b[0m\u001b[1;33m\u001b[0m\u001b[0m\n\u001b[0m\u001b[0;32m    379\u001b[0m \u001b[1;33m\u001b[0m\u001b[0m\n\u001b[0;32m    380\u001b[0m \u001b[1;33m\u001b[0m\u001b[0m\n",
      "\u001b[1;32m~\\anaconda3\\lib\\site-packages\\matplotlib\\backends\\backend_webagg.py\u001b[0m in \u001b[0;36mshow\u001b[1;34m()\u001b[0m\n\u001b[0;32m    318\u001b[0m             \u001b[0mprint\u001b[0m\u001b[1;33m(\u001b[0m\u001b[1;34m\"To view figure, visit {0}\"\u001b[0m\u001b[1;33m.\u001b[0m\u001b[0mformat\u001b[0m\u001b[1;33m(\u001b[0m\u001b[0murl\u001b[0m\u001b[1;33m)\u001b[0m\u001b[1;33m)\u001b[0m\u001b[1;33m\u001b[0m\u001b[1;33m\u001b[0m\u001b[0m\n\u001b[0;32m    319\u001b[0m \u001b[1;33m\u001b[0m\u001b[0m\n\u001b[1;32m--> 320\u001b[1;33m         \u001b[0mWebAggApplication\u001b[0m\u001b[1;33m.\u001b[0m\u001b[0mstart\u001b[0m\u001b[1;33m(\u001b[0m\u001b[1;33m)\u001b[0m\u001b[1;33m\u001b[0m\u001b[1;33m\u001b[0m\u001b[0m\n\u001b[0m",
      "\u001b[1;32m~\\anaconda3\\lib\\site-packages\\matplotlib\\backends\\backend_webagg.py\u001b[0m in \u001b[0;36mstart\u001b[1;34m(cls)\u001b[0m\n\u001b[0;32m    275\u001b[0m         \u001b[0msys\u001b[0m\u001b[1;33m.\u001b[0m\u001b[0mstdout\u001b[0m\u001b[1;33m.\u001b[0m\u001b[0mflush\u001b[0m\u001b[1;33m(\u001b[0m\u001b[1;33m)\u001b[0m\u001b[1;33m\u001b[0m\u001b[1;33m\u001b[0m\u001b[0m\n\u001b[0;32m    276\u001b[0m         \u001b[1;32mwith\u001b[0m \u001b[0mcatch_sigint\u001b[0m\u001b[1;33m(\u001b[0m\u001b[1;33m)\u001b[0m\u001b[1;33m:\u001b[0m\u001b[1;33m\u001b[0m\u001b[1;33m\u001b[0m\u001b[0m\n\u001b[1;32m--> 277\u001b[1;33m             \u001b[0mioloop\u001b[0m\u001b[1;33m.\u001b[0m\u001b[0mstart\u001b[0m\u001b[1;33m(\u001b[0m\u001b[1;33m)\u001b[0m\u001b[1;33m\u001b[0m\u001b[1;33m\u001b[0m\u001b[0m\n\u001b[0m\u001b[0;32m    278\u001b[0m \u001b[1;33m\u001b[0m\u001b[0m\n\u001b[0;32m    279\u001b[0m \u001b[1;33m\u001b[0m\u001b[0m\n",
      "\u001b[1;32m~\\anaconda3\\lib\\site-packages\\tornado\\platform\\asyncio.py\u001b[0m in \u001b[0;36mstart\u001b[1;34m(self)\u001b[0m\n\u001b[0;32m    197\u001b[0m             \u001b[0mself\u001b[0m\u001b[1;33m.\u001b[0m\u001b[0m_setup_logging\u001b[0m\u001b[1;33m(\u001b[0m\u001b[1;33m)\u001b[0m\u001b[1;33m\u001b[0m\u001b[1;33m\u001b[0m\u001b[0m\n\u001b[0;32m    198\u001b[0m             \u001b[0masyncio\u001b[0m\u001b[1;33m.\u001b[0m\u001b[0mset_event_loop\u001b[0m\u001b[1;33m(\u001b[0m\u001b[0mself\u001b[0m\u001b[1;33m.\u001b[0m\u001b[0masyncio_loop\u001b[0m\u001b[1;33m)\u001b[0m\u001b[1;33m\u001b[0m\u001b[1;33m\u001b[0m\u001b[0m\n\u001b[1;32m--> 199\u001b[1;33m             \u001b[0mself\u001b[0m\u001b[1;33m.\u001b[0m\u001b[0masyncio_loop\u001b[0m\u001b[1;33m.\u001b[0m\u001b[0mrun_forever\u001b[0m\u001b[1;33m(\u001b[0m\u001b[1;33m)\u001b[0m\u001b[1;33m\u001b[0m\u001b[1;33m\u001b[0m\u001b[0m\n\u001b[0m\u001b[0;32m    200\u001b[0m         \u001b[1;32mfinally\u001b[0m\u001b[1;33m:\u001b[0m\u001b[1;33m\u001b[0m\u001b[1;33m\u001b[0m\u001b[0m\n\u001b[0;32m    201\u001b[0m             \u001b[0masyncio\u001b[0m\u001b[1;33m.\u001b[0m\u001b[0mset_event_loop\u001b[0m\u001b[1;33m(\u001b[0m\u001b[0mold_loop\u001b[0m\u001b[1;33m)\u001b[0m\u001b[1;33m\u001b[0m\u001b[1;33m\u001b[0m\u001b[0m\n",
      "\u001b[1;32m~\\anaconda3\\lib\\asyncio\\base_events.py\u001b[0m in \u001b[0;36mrun_forever\u001b[1;34m(self)\u001b[0m\n\u001b[0;32m    584\u001b[0m         \u001b[1;34m\"\"\"Run until stop() is called.\"\"\"\u001b[0m\u001b[1;33m\u001b[0m\u001b[1;33m\u001b[0m\u001b[0m\n\u001b[0;32m    585\u001b[0m         \u001b[0mself\u001b[0m\u001b[1;33m.\u001b[0m\u001b[0m_check_closed\u001b[0m\u001b[1;33m(\u001b[0m\u001b[1;33m)\u001b[0m\u001b[1;33m\u001b[0m\u001b[1;33m\u001b[0m\u001b[0m\n\u001b[1;32m--> 586\u001b[1;33m         \u001b[0mself\u001b[0m\u001b[1;33m.\u001b[0m\u001b[0m_check_running\u001b[0m\u001b[1;33m(\u001b[0m\u001b[1;33m)\u001b[0m\u001b[1;33m\u001b[0m\u001b[1;33m\u001b[0m\u001b[0m\n\u001b[0m\u001b[0;32m    587\u001b[0m         \u001b[0mself\u001b[0m\u001b[1;33m.\u001b[0m\u001b[0m_set_coroutine_origin_tracking\u001b[0m\u001b[1;33m(\u001b[0m\u001b[0mself\u001b[0m\u001b[1;33m.\u001b[0m\u001b[0m_debug\u001b[0m\u001b[1;33m)\u001b[0m\u001b[1;33m\u001b[0m\u001b[1;33m\u001b[0m\u001b[0m\n\u001b[0;32m    588\u001b[0m         \u001b[0mself\u001b[0m\u001b[1;33m.\u001b[0m\u001b[0m_thread_id\u001b[0m \u001b[1;33m=\u001b[0m \u001b[0mthreading\u001b[0m\u001b[1;33m.\u001b[0m\u001b[0mget_ident\u001b[0m\u001b[1;33m(\u001b[0m\u001b[1;33m)\u001b[0m\u001b[1;33m\u001b[0m\u001b[1;33m\u001b[0m\u001b[0m\n",
      "\u001b[1;32m~\\anaconda3\\lib\\asyncio\\base_events.py\u001b[0m in \u001b[0;36m_check_running\u001b[1;34m(self)\u001b[0m\n\u001b[0;32m    576\u001b[0m     \u001b[1;32mdef\u001b[0m \u001b[0m_check_running\u001b[0m\u001b[1;33m(\u001b[0m\u001b[0mself\u001b[0m\u001b[1;33m)\u001b[0m\u001b[1;33m:\u001b[0m\u001b[1;33m\u001b[0m\u001b[1;33m\u001b[0m\u001b[0m\n\u001b[0;32m    577\u001b[0m         \u001b[1;32mif\u001b[0m \u001b[0mself\u001b[0m\u001b[1;33m.\u001b[0m\u001b[0mis_running\u001b[0m\u001b[1;33m(\u001b[0m\u001b[1;33m)\u001b[0m\u001b[1;33m:\u001b[0m\u001b[1;33m\u001b[0m\u001b[1;33m\u001b[0m\u001b[0m\n\u001b[1;32m--> 578\u001b[1;33m             \u001b[1;32mraise\u001b[0m \u001b[0mRuntimeError\u001b[0m\u001b[1;33m(\u001b[0m\u001b[1;34m'This event loop is already running'\u001b[0m\u001b[1;33m)\u001b[0m\u001b[1;33m\u001b[0m\u001b[1;33m\u001b[0m\u001b[0m\n\u001b[0m\u001b[0;32m    579\u001b[0m         \u001b[1;32mif\u001b[0m \u001b[0mevents\u001b[0m\u001b[1;33m.\u001b[0m\u001b[0m_get_running_loop\u001b[0m\u001b[1;33m(\u001b[0m\u001b[1;33m)\u001b[0m \u001b[1;32mis\u001b[0m \u001b[1;32mnot\u001b[0m \u001b[1;32mNone\u001b[0m\u001b[1;33m:\u001b[0m\u001b[1;33m\u001b[0m\u001b[1;33m\u001b[0m\u001b[0m\n\u001b[0;32m    580\u001b[0m             raise RuntimeError(\n",
      "\u001b[1;31mRuntimeError\u001b[0m: This event loop is already running"
     ]
    }
   ],
   "source": [
    "plt.clf()\n",
    "plt.figure(1)\n",
    "plt.title('Зависимость интенсивности от времени')\n",
    "plt.xlabel('t, нс')\n",
    "plt.ylabel('I(t), произв. ед.') \n",
    "plt.plot(t_ns, It, color='red')\n",
    "plt.xlim(0,10)\n",
    "plt.grid()\n",
    "plt.savefig('graph1FINAL.png',dpi=600)\n",
    "plt.show()"
   ]
  },
  {
   "cell_type": "code",
   "execution_count": 8,
   "id": "0b8998af-fba5-46b5-9140-50a4fdd5eede",
   "metadata": {
    "colab": {
     "base_uri": "https://localhost:8080/",
     "height": 295
    },
    "executionInfo": {
     "elapsed": 1683,
     "status": "ok",
     "timestamp": 1645018497062,
     "user": {
      "displayName": "Gleb Zhuravlev",
      "photoUrl": "https://lh3.googleusercontent.com/a/default-user=s64",
      "userId": "00380851654043785944"
     },
     "user_tz": -180
    },
    "id": "0b8998af-fba5-46b5-9140-50a4fdd5eede",
    "outputId": "45950850-9797-4e38-abaf-551df1fd9884"
   },
   "outputs": [
    {
     "data": {
      "image/png": "[encoded data removed]",
      "text/plain": [
       "<Figure size 432x288 with 1 Axes>"
      ]
     },
     "metadata": {
      "needs_background": "light"
     },
     "output_type": "display_data"
    }
   ],
   "source": [
    "plt.figure(2)\n",
    "plt.title('Зависимость инверсии носителей от времени')\n",
    "plt.xlabel('t, нс')\n",
    "plt.ylabel('N(t), 1')\n",
    "plt.plot(t_ns, Nt, color='blue')\n",
    "plt.xlim(0,10)\n",
    "plt.grid()\n",
    "plt.savefig('graph2FINAL.png',dpi=600)"
   ]
  }
 ],
 "metadata": {
  "colab": {
   "collapsed_sections": [],
   "name": "lab1.ipynb",
   "provenance": []
  },
  "kernelspec": {
   "display_name": "Python 3 (ipykernel)",
   "language": "python",
   "name": "python3"
  },
  "language_info": {
   "codemirror_mode": {
    "name": "ipython",
    "version": 3
   },
   "file_extension": ".py",
   "mimetype": "text/x-python",
   "name": "python",
   "nbconvert_exporter": "python",
   "pygments_lexer": "ipython3",
   "version": "3.9.7"
  },
  "toc-autonumbering": false,
  "toc-showmarkdowntxt": true,
  "toc-showtags": false
 },
 "nbformat": 4,
 "nbformat_minor": 5
}
