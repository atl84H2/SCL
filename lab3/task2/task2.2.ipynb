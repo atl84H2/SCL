{
 "cells": [
  {
   "cell_type": "markdown",
   "id": "ac7711c1",
   "metadata": {},
   "source": [
    "### Задача 1\n",
    "\n",
    "Из первого уравнения выразим:\n",
    "$$I_s(g(2\\rho_s-1)-1)=0\\\\\n",
    "g(2\\rho_s-1)-1=0\\\\\n",
    "\\rho_s=\\frac{\\frac{1}{g}+1}{2}$$\n",
    "\n",
    "Из третьего уравнения:\n",
    "$$\\eta_w(J_{thr}-n_s-2F(\\rho_s,n_s))=0 \\Leftrightarrow n_s=\\frac{J_{thr}}{1+2B(1-\\rho_s)}$$\n",
    "\n",
    "Из второго уравнения:\n",
    "$$\\eta_d(F(\\rho_s,n_s)-\\rho_s-I_s(2\\rho_s-1))=0 \\Leftrightarrow I_s=\\frac{Bn_s(1-\\rho_s)-\\rho_s}{2\\rho_s-1}$$\n",
    "\n",
    "Подставляя полученные выше результаты для уравнений (1) и (3) в (2) и упрощая, получаем:\n",
    "\n",
    "$$I_s=\\frac{J_{thr}B(1-\\rho_s)}{(2\\rho_s-1)(2B(1-\\rho_s)+1)}-\\frac{\\rho_s}{2\\rho_s-1}$$\n",
    "\n",
    "Обращаясь к условию $I_s>0$, можем использовать это выражение для расчета порогового параметра накачки и вернуться к расчету нормированного числа носителей заряда в смачивающем слое. Так получены следующие численные значения:\n",
    "\n",
    "$$\\rho_s=0.9273504273504274$$\n",
    "$$n_s=0.01823529411764707222$$\n",
    "$$J_{thr}=1.87293614881850187$$\n",
    "\n",
    "\n",
    "\n",
    "\n",
    "### Задачи 2-3"
   ]
  },
  {
   "cell_type": "markdown",
   "id": "2cd63a2d-976b-4aa6-8883-b8c7ca99985b",
   "metadata": {
    "id": "2cd63a2d-976b-4aa6-8883-b8c7ca99985b"
   },
   "source": [
    "Импорт необходимых библиотек"
   ]
  },
  {
   "cell_type": "code",
   "execution_count": 1,
   "id": "9f5cd96d-d430-4226-9501-2fa09a53d36a",
   "metadata": {
    "executionInfo": {
     "elapsed": 318,
     "status": "ok",
     "timestamp": 1645361004550,
     "user": {
      "displayName": "Gleb Zhuravlev",
      "photoUrl": "https://lh3.googleusercontent.com/a/default-user=s64",
      "userId": "00380851654043785944"
     },
     "user_tz": -180
    },
    "id": "9f5cd96d-d430-4226-9501-2fa09a53d36a"
   },
   "outputs": [],
   "source": [
    "from scipy.integrate import solve_ivp\n",
    "import matplotlib.pyplot as plt\n",
    "import numpy as np"
   ]
  },
  {
   "cell_type": "markdown",
   "id": "50aab893-8e13-4671-a219-c9d11cc7ce00",
   "metadata": {
    "id": "50aab893-8e13-4671-a219-c9d11cc7ce00"
   },
   "source": [
    "Определение системы"
   ]
  },
  {
   "cell_type": "code",
   "execution_count": 2,
   "id": "4cc45515-abc3-439a-8389-33950dea49ee",
   "metadata": {
    "executionInfo": {
     "elapsed": 255,
     "status": "ok",
     "timestamp": 1645361005151,
     "user": {
      "displayName": "Gleb Zhuravlev",
      "photoUrl": "https://lh3.googleusercontent.com/a/default-user=s64",
      "userId": "00380851654043785944"
     },
     "user_tz": -180
    },
    "id": "4cc45515-abc3-439a-8389-33950dea49ee"
   },
   "outputs": [],
   "source": [
    "def odes(t,y,B,f_a):\n",
    "    I, rho, n = y\n",
    "    F=B*n*(1-rho)\n",
    "    dydt=[I*(g*(2*rho-1)-1),\n",
    "          eta_d*(F-rho-I*(2*rho-1)),\n",
    "          eta_w*(J+delta_a*np.sin(2*np.pi*f_a*t)-n-2*F)]\n",
    "    return dydt"
   ]
  },
  {
   "cell_type": "markdown",
   "id": "8f902f97",
   "metadata": {
    "id": "50c22a36-fc9e-4be1-bdc0-c6e99ecc2bde"
   },
   "source": [
    "Параметры"
   ]
  },
  {
   "cell_type": "code",
   "execution_count": 3,
   "id": "b0dac097-d3b6-456a-a0f0-df47818c18bb",
   "metadata": {
    "executionInfo": {
     "elapsed": 289,
     "status": "ok",
     "timestamp": 1645361005187,
     "user": {
      "displayName": "Gleb Zhuravlev",
      "photoUrl": "https://lh3.googleusercontent.com/a/default-user=s64",
      "userId": "00380851654043785944"
     },
     "user_tz": -180
    },
    "id": "b0dac097-d3b6-456a-a0f0-df47818c18bb"
   },
   "outputs": [],
   "source": [
    "g=1.17\n",
    "J=0.75*4*1.87293614881850187\n",
    "B=700\n",
    "tau_d=0.9*10**(-9)\n",
    "tau_p=20*10**(-12)\n",
    "tau_w=1*10**(-9)\n",
    "eta_d=tau_p/tau_d\n",
    "eta_w=tau_p/tau_w\n",
    "delta_a=0.1*J"
   ]
  },
  {
   "cell_type": "markdown",
   "id": "c2077c78-9a89-41ae-ab31-c80613e8709c",
   "metadata": {
    "id": "c2077c78-9a89-41ae-ab31-c80613e8709c"
   },
   "source": [
    "Во второй лабораторной работе значение частоты определено как $f_{ro}=2.39\\text{ ГГц}$. Для перехода к нормированным единицам домножим на время жизни фотона в резонаторе:"
   ]
  },
  {
   "cell_type": "code",
   "execution_count": 4,
   "id": "1e45cfce-cdfa-4d09-8f8c-e15ffddd322a",
   "metadata": {
    "executionInfo": {
     "elapsed": 289,
     "status": "ok",
     "timestamp": 1645361005188,
     "user": {
      "displayName": "Gleb Zhuravlev",
      "photoUrl": "https://lh3.googleusercontent.com/a/default-user=s64",
      "userId": "00380851654043785944"
     },
     "user_tz": -180
    },
    "id": "1e45cfce-cdfa-4d09-8f8c-e15ffddd322a"
   },
   "outputs": [],
   "source": [
    "f=2.39*10**9*tau_p\n",
    "f_array=np.arange(0.05*f,1.25*f, (1.25*f-0.05*f)/20)"
   ]
  },
  {
   "cell_type": "markdown",
   "id": "4581df77",
   "metadata": {},
   "source": [
    "Получен массив из 20 значений для дальнейшего расчета. Для определения временного промежутка найдем величину $\\frac{20}{f_A}$ (подобрана, так как $\\frac{10}{f_A}$ демонстрирует некорректную зависимость):"
   ]
  },
  {
   "cell_type": "code",
   "execution_count": 5,
   "id": "8aa2b8bd",
   "metadata": {},
   "outputs": [
    {
     "data": {
      "text/plain": [
       "418.4100418410042"
      ]
     },
     "execution_count": 5,
     "metadata": {},
     "output_type": "execute_result"
    }
   ],
   "source": [
    "t_range=20/f\n",
    "t_range"
   ]
  },
  {
   "cell_type": "markdown",
   "id": "7ef35d28",
   "metadata": {},
   "source": [
    "В соответствии со второй лабораторной и рассчитанной величиной вводим начальные значения и вектор времени:"
   ]
  },
  {
   "cell_type": "code",
   "execution_count": 6,
   "id": "896821e5-3915-4274-8b28-33f63c6a2f98",
   "metadata": {
    "executionInfo": {
     "elapsed": 306,
     "status": "ok",
     "timestamp": 1645361277184,
     "user": {
      "displayName": "Gleb Zhuravlev",
      "photoUrl": "https://lh3.googleusercontent.com/a/default-user=s64",
      "userId": "00380851654043785944"
     },
     "user_tz": -180
    },
    "id": "896821e5-3915-4274-8b28-33f63c6a2f98"
   },
   "outputs": [],
   "source": [
    "y0=(3.255,0.9273504273504274,0.01823529411764707222)\n",
    "t=np.linspace(0,int(t_range),int(t_range)*10)"
   ]
  },
  {
   "cell_type": "markdown",
   "id": "f10f3ff3",
   "metadata": {},
   "source": [
    "Интегрирование системы с определением минимальных и максимальных значений интенсивности"
   ]
  },
  {
   "cell_type": "code",
   "execution_count": 7,
   "id": "1c5f2e41",
   "metadata": {},
   "outputs": [],
   "source": [
    "I_min=np.empty(20)\n",
    "I_max=np.empty(20)\n",
    "for i in range(len(f_array)):\n",
    "    solution_ivp=solve_ivp(odes,t_span=[0,max(t)], t_eval=t, y0=y0, args=(B,f_array[i]), rtol=1e-8)\n",
    "    I_min[i]=min(solution_ivp.y[0])\n",
    "    I_max[i]=max(solution_ivp.y[0])"
   ]
  },
  {
   "cell_type": "markdown",
   "id": "4a7f9844-bcfb-4307-8677-6cd5e8c0d9c5",
   "metadata": {
    "id": "4a7f9844-bcfb-4307-8677-6cd5e8c0d9c5"
   },
   "source": [
    "Переход к частотам в ГГц"
   ]
  },
  {
   "cell_type": "code",
   "execution_count": 8,
   "id": "5abaee5c-aca7-40f2-9969-67a24f25bdf7",
   "metadata": {
    "executionInfo": {
     "elapsed": 320,
     "status": "ok",
     "timestamp": 1645361283798,
     "user": {
      "displayName": "Gleb Zhuravlev",
      "photoUrl": "https://lh3.googleusercontent.com/a/default-user=s64",
      "userId": "00380851654043785944"
     },
     "user_tz": -180
    },
    "id": "5abaee5c-aca7-40f2-9969-67a24f25bdf7"
   },
   "outputs": [],
   "source": [
    "f_axis=f_array/(tau_p*10**9)"
   ]
  },
  {
   "cell_type": "markdown",
   "id": "408bf9e5-ee2b-4cb1-896d-4889e59f9b45",
   "metadata": {
    "id": "408bf9e5-ee2b-4cb1-896d-4889e59f9b45"
   },
   "source": [
    "График"
   ]
  },
  {
   "cell_type": "code",
   "execution_count": 9,
   "id": "2000ade9-e7de-4c55-bbaa-670d8ce1c035",
   "metadata": {
    "colab": {
     "base_uri": "https://localhost:8080/",
     "height": 295
    },
    "executionInfo": {
     "elapsed": 2089,
     "status": "ok",
     "timestamp": 1645361289117,
     "user": {
      "displayName": "Gleb Zhuravlev",
      "photoUrl": "https://lh3.googleusercontent.com/a/default-user=s64",
      "userId": "00380851654043785944"
     },
     "user_tz": -180
    },
    "id": "2000ade9-e7de-4c55-bbaa-670d8ce1c035",
    "outputId": "8dfd8cf3-aaa4-4c3d-eaae-9156b4e09fed"
   },
   "outputs": [
    {
     "data": {
      "application/vnd.jupyter.widget-view+json": {
       "model_id": "b356cfb142054165a5648bf3ce6c2551",
       "version_major": 2,
       "version_minor": 0
      },
      "image/png": "[encoded data removed]",
      "text/html": [
       "\n",
       "            <div style=\"display: inline-block;\">\n",
       "                <div class=\"jupyter-widgets widget-label\" style=\"text-align: center;\">\n",
       "                    Figure\n",
       "                </div>\n",
       "                <img src='data:image/png;base64,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' width=640.0/>\n",
       "            </div>\n",
       "        "
      ],
      "text/plain": [
       "Canvas(toolbar=Toolbar(toolitems=[('Home', 'Reset original view', 'home', 'home'), ('Back', 'Back to previous …"
      ]
     },
     "metadata": {},
     "output_type": "display_data"
    }
   ],
   "source": [
    "%matplotlib widget\n",
    "plt.figure(1)\n",
    "plt.title('Зависимость интенсивности от частоты модуляции')\n",
    "plt.xlabel('f, ГГц')\n",
    "plt.ylabel('I(f), произв. ед.') \n",
    "plt.plot(f_axis, I_min, color='blue', label='$I_{min}$', marker='o')\n",
    "plt.plot(f_axis, I_max, color='red', label='$I_{max}$', marker='o')\n",
    "plt.legend(loc='best')\n",
    "plt.grid()\n",
    "plt.savefig('graph2.2.png',dpi=600)\n",
    "plt.show()"
   ]
  },
  {
   "cell_type": "code",
   "execution_count": null,
   "id": "dc88fe74-b901-4b09-a627-4ac784a32ff3",
   "metadata": {},
   "outputs": [],
   "source": []
  }
 ],
 "metadata": {
  "colab": {
   "collapsed_sections": [],
   "name": "lab2.ipynb",
   "provenance": []
  },
  "kernelspec": {
   "display_name": "Python 3 (ipykernel)",
   "language": "python",
   "name": "python3"
  },
  "language_info": {
   "codemirror_mode": {
    "name": "ipython",
    "version": 3
   },
   "file_extension": ".py",
   "mimetype": "text/x-python",
   "name": "python",
   "nbconvert_exporter": "python",
   "pygments_lexer": "ipython3",
   "version": "3.9.7"
  },
  "toc-autonumbering": false,
  "toc-showmarkdowntxt": true,
  "toc-showtags": false
 },
 "nbformat": 4,
 "nbformat_minor": 5
}
