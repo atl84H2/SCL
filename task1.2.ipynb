{
 "cells": [
  {
   "cell_type": "markdown",
   "id": "c7609344",
   "metadata": {},
   "source": [
    "### Задача 1.2"
   ]
  },
  {
   "cell_type": "markdown",
   "id": "2cd63a2d-976b-4aa6-8883-b8c7ca99985b",
   "metadata": {
    "id": "2cd63a2d-976b-4aa6-8883-b8c7ca99985b"
   },
   "source": [
    "Импорт необходимых библиотек"
   ]
  },
  {
   "cell_type": "code",
   "execution_count": 1,
   "id": "9f5cd96d-d430-4226-9501-2fa09a53d36a",
   "metadata": {
    "executionInfo": {
     "elapsed": 1024,
     "status": "ok",
     "timestamp": 1645018459710,
     "user": {
      "displayName": "Gleb Zhuravlev",
      "photoUrl": "https://lh3.googleusercontent.com/a/default-user=s64",
      "userId": "00380851654043785944"
     },
     "user_tz": -180
    },
    "id": "9f5cd96d-d430-4226-9501-2fa09a53d36a"
   },
   "outputs": [],
   "source": [
    "from scipy.integrate import solve_ivp\n",
    "import matplotlib.pyplot as plt\n",
    "import numpy as np"
   ]
  },
  {
   "cell_type": "markdown",
   "id": "50aab893-8e13-4671-a219-c9d11cc7ce00",
   "metadata": {
    "id": "50aab893-8e13-4671-a219-c9d11cc7ce00"
   },
   "source": [
    "Определение системы"
   ]
  },
  {
   "cell_type": "code",
   "execution_count": 2,
   "id": "4cc45515-abc3-439a-8389-33950dea49ee",
   "metadata": {
    "executionInfo": {
     "elapsed": 26,
     "status": "ok",
     "timestamp": 1645018459716,
     "user": {
      "displayName": "Gleb Zhuravlev",
      "photoUrl": "https://lh3.googleusercontent.com/a/default-user=s64",
      "userId": "00380851654043785944"
     },
     "user_tz": -180
    },
    "id": "4cc45515-abc3-439a-8389-33950dea49ee"
   },
   "outputs": [],
   "source": [
    "def odes(t,y,f_a):\n",
    "    I, N = y\n",
    "    dydt = [(N-1)*I,\n",
    "            eta_g*(J+delta_a*np.sin(2*np.pi*f_a*t)-N*(1+I))        \n",
    "    ]\n",
    "    return dydt"
   ]
  },
  {
   "cell_type": "markdown",
   "id": "50c22a36-fc9e-4be1-bdc0-c6e99ecc2bde",
   "metadata": {
    "id": "50c22a36-fc9e-4be1-bdc0-c6e99ecc2bde"
   },
   "source": [
    "Параметры (параметр накачки уменьшен на 25%)"
   ]
  },
  {
   "cell_type": "code",
   "execution_count": 3,
   "id": "b0dac097-d3b6-456a-a0f0-df47818c18bb",
   "metadata": {
    "executionInfo": {
     "elapsed": 15,
     "status": "ok",
     "timestamp": 1645018463890,
     "user": {
      "displayName": "Gleb Zhuravlev",
      "photoUrl": "https://lh3.googleusercontent.com/a/default-user=s64",
      "userId": "00380851654043785944"
     },
     "user_tz": -180
    },
    "id": "b0dac097-d3b6-456a-a0f0-df47818c18bb"
   },
   "outputs": [],
   "source": [
    "tau_p=20*10**(-12)\n",
    "tau_c=1*10**(-9)\n",
    "eta_g=tau_p/tau_c\n",
    "J=3\n",
    "delta_a=0.1*J"
   ]
  },
  {
   "cell_type": "markdown",
   "id": "73485adc",
   "metadata": {},
   "source": [
    "В первой лабораторной работе значение частоты определено как $f_{ro}=1.923\\text{ ГГц}$. Для перехода к нормированным единицам домножим на время жизни фотона в резонаторе:"
   ]
  },
  {
   "cell_type": "code",
   "execution_count": 4,
   "id": "45de0824",
   "metadata": {},
   "outputs": [],
   "source": [
    "f=1.923*10**9*tau_p\n",
    "f_array=np.arange(0.05*f,1.25*f, (1.25*f-0.05*f)/20)"
   ]
  },
  {
   "cell_type": "markdown",
   "id": "dc641af3",
   "metadata": {},
   "source": [
    "Получен массив из 20 значений для дальнейшего расчета. Для определения временного промежутка найдем величину $\\frac{20}{f_A}$ (подобрана, так как $\\frac{10}{f_A}$ демонстрирует некорректную зависимость):"
   ]
  },
  {
   "cell_type": "code",
   "execution_count": 5,
   "id": "4bba46f9",
   "metadata": {},
   "outputs": [
    {
     "data": {
      "text/plain": [
       "520.0208008320333"
      ]
     },
     "execution_count": 5,
     "metadata": {},
     "output_type": "execute_result"
    }
   ],
   "source": [
    "t_range=20/f\n",
    "t_range"
   ]
  },
  {
   "cell_type": "markdown",
   "id": "c2077c78-9a89-41ae-ab31-c80613e8709c",
   "metadata": {
    "id": "c2077c78-9a89-41ae-ab31-c80613e8709c"
   },
   "source": [
    "В соответствии с первой лабораторной и рассчитанной величиной вводим начальные значения и вектор времени:"
   ]
  },
  {
   "cell_type": "code",
   "execution_count": 6,
   "id": "1e45cfce-cdfa-4d09-8f8c-e15ffddd322a",
   "metadata": {
    "executionInfo": {
     "elapsed": 14,
     "status": "ok",
     "timestamp": 1645018467403,
     "user": {
      "displayName": "Gleb Zhuravlev",
      "photoUrl": "https://lh3.googleusercontent.com/a/default-user=s64",
      "userId": "00380851654043785944"
     },
     "user_tz": -180
    },
    "id": "1e45cfce-cdfa-4d09-8f8c-e15ffddd322a"
   },
   "outputs": [],
   "source": [
    "y0=(J-1,1)\n",
    "t=np.linspace(0,260,2600)"
   ]
  },
  {
   "cell_type": "markdown",
   "id": "72201df1-edf3-48ae-802a-b2893978e84d",
   "metadata": {
    "id": "72201df1-edf3-48ae-802a-b2893978e84d"
   },
   "source": [
    "Интегрирование системы с определением минимальных и максимальных значений интенсивности"
   ]
  },
  {
   "cell_type": "code",
   "execution_count": 7,
   "id": "896821e5-3915-4274-8b28-33f63c6a2f98",
   "metadata": {
    "colab": {
     "base_uri": "https://localhost:8080/"
    },
    "executionInfo": {
     "elapsed": 489,
     "status": "ok",
     "timestamp": 1645018473524,
     "user": {
      "displayName": "Gleb Zhuravlev",
      "photoUrl": "https://lh3.googleusercontent.com/a/default-user=s64",
      "userId": "00380851654043785944"
     },
     "user_tz": -180
    },
    "id": "896821e5-3915-4274-8b28-33f63c6a2f98",
    "outputId": "2673de63-08fb-4d86-978b-3409d9540c08"
   },
   "outputs": [],
   "source": [
    "I_min=np.empty(20)\n",
    "I_max=np.empty(20)\n",
    "for i in range(len(f_array)):\n",
    "    solution_ivp=solve_ivp(odes,t_span=[0,max(t)], t_eval=t, y0=y0, args=(f_array[i],), rtol=1e-8)\n",
    "    #print(i)\n",
    "    #print(solution_ivp.y[0])\n",
    "    #print(max(solution_ivp.y[0]))\n",
    "    #print(min(solution_ivp.y[0]))\n",
    "    I_min[i]=min(solution_ivp.y[0])\n",
    "    I_max[i]=max(solution_ivp.y[0])"
   ]
  },
  {
   "cell_type": "markdown",
   "id": "4a7f9844-bcfb-4307-8677-6cd5e8c0d9c5",
   "metadata": {
    "id": "4a7f9844-bcfb-4307-8677-6cd5e8c0d9c5"
   },
   "source": [
    "Переход к частотам в ГГц"
   ]
  },
  {
   "cell_type": "code",
   "execution_count": 8,
   "id": "fa718ae9",
   "metadata": {},
   "outputs": [],
   "source": [
    "f_axis=f_array/(tau_p*10**9)"
   ]
  },
  {
   "cell_type": "code",
   "execution_count": 9,
   "id": "5abaee5c-aca7-40f2-9969-67a24f25bdf7",
   "metadata": {
    "executionInfo": {
     "elapsed": 16,
     "status": "ok",
     "timestamp": 1645018477118,
     "user": {
      "displayName": "Gleb Zhuravlev",
      "photoUrl": "https://lh3.googleusercontent.com/a/default-user=s64",
      "userId": "00380851654043785944"
     },
     "user_tz": -180
    },
    "id": "5abaee5c-aca7-40f2-9969-67a24f25bdf7"
   },
   "outputs": [
    {
     "name": "stdout",
     "output_type": "stream",
     "text": [
      "[0.09615 0.21153 0.32691 0.44229 0.55767 0.67305 0.78843 0.90381 1.01919\n",
      " 1.13457 1.24995 1.36533 1.48071 1.59609 1.71147 1.82685 1.94223 2.05761\n",
      " 2.17299 2.28837]\n",
      "[2.         1.69395565 1.68593099 1.66982561 1.63936945 1.62055282\n",
      " 1.60361272 1.55141538 1.49105811 1.4503591  1.36537668 1.27072142\n",
      " 1.17144932 1.16636163 1.27058762 1.37571132 1.45919997 1.54945972\n",
      " 1.582289   1.6138632 ]\n",
      "[2.3006127  2.30972947 2.31050534 2.35522011 2.39590219 2.42274558\n",
      " 2.43847392 2.49629203 2.59239501 2.72503634 2.82264767 2.98272203\n",
      " 3.15275374 3.14348481 2.94970217 2.77488329 2.64213258 2.55809135\n",
      " 2.47577226 2.39809106]\n"
     ]
    }
   ],
   "source": [
    "print(f_axis)\n",
    "print(I_min)\n",
    "print(I_max)"
   ]
  },
  {
   "cell_type": "markdown",
   "id": "408bf9e5-ee2b-4cb1-896d-4889e59f9b45",
   "metadata": {
    "id": "408bf9e5-ee2b-4cb1-896d-4889e59f9b45"
   },
   "source": [
    "График"
   ]
  },
  {
   "cell_type": "code",
   "execution_count": 10,
   "id": "2000ade9-e7de-4c55-bbaa-670d8ce1c035",
   "metadata": {
    "colab": {
     "base_uri": "https://localhost:8080/",
     "height": 295
    },
    "executionInfo": {
     "elapsed": 1460,
     "status": "ok",
     "timestamp": 1645018481167,
     "user": {
      "displayName": "Gleb Zhuravlev",
      "photoUrl": "https://lh3.googleusercontent.com/a/default-user=s64",
      "userId": "00380851654043785944"
     },
     "user_tz": -180
    },
    "id": "2000ade9-e7de-4c55-bbaa-670d8ce1c035",
    "outputId": "28122da4-aa5d-4f61-9e17-4765e43dbaff"
   },
   "outputs": [
    {
     "data": {
      "image/png": "[encoded data removed]",
      "text/plain": [
       "<Figure size 432x288 with 1 Axes>"
      ]
     },
     "metadata": {
      "needs_background": "light"
     },
     "output_type": "display_data"
    }
   ],
   "source": [
    "plt.clf()\n",
    "plt.figure(1)\n",
    "plt.title('Зависимость интенсивности от частоты модуляции')\n",
    "plt.xlabel('f, ГГц')\n",
    "plt.ylabel('I(f), произв. ед.') \n",
    "plt.plot(f_axis, I_min, color='blue', label='$I_{min}$', marker='o')\n",
    "plt.plot(f_axis, I_max, color='red', label='$I_{max}$', marker='o')\n",
    "plt.legend(loc='best')\n",
    "plt.grid()\n",
    "plt.savefig('graph1FINAL.png',dpi=600)"
   ]
  }
 ],
 "metadata": {
  "colab": {
   "collapsed_sections": [],
   "name": "lab1.ipynb",
   "provenance": []
  },
  "kernelspec": {
   "display_name": "Python 3 (ipykernel)",
   "language": "python",
   "name": "python3"
  },
  "language_info": {
   "codemirror_mode": {
    "name": "ipython",
    "version": 3
   },
   "file_extension": ".py",
   "mimetype": "text/x-python",
   "name": "python",
   "nbconvert_exporter": "python",
   "pygments_lexer": "ipython3",
   "version": "3.9.7"
  },
  "toc-autonumbering": false,
  "toc-showmarkdowntxt": true,
  "toc-showtags": false
 },
 "nbformat": 4,
 "nbformat_minor": 5
}
