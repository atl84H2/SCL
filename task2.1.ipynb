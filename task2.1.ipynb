{
 "cells": [
  {
   "cell_type": "markdown",
   "id": "ac7711c1",
   "metadata": {},
   "source": [
    "### Задача 1\n",
    "\n",
    "Из первого уравнения выразим:\n",
    "$$I_s(g(2\\rho_s-1)-1)=0\\\\\n",
    "g(2\\rho_s-1)-1=0\\\\\n",
    "\\rho_s=\\frac{\\frac{1}{g}+1}{2}$$\n",
    "\n",
    "Из третьего уравнения:\n",
    "$$\\eta_w(J_{thr}-n_s-2F(\\rho_s,n_s))=0 \\Leftrightarrow n_s=\\frac{J_{thr}}{1+2B(1-\\rho_s)}$$\n",
    "\n",
    "Из второго уравнения:\n",
    "$$\\eta_d(F(\\rho_s,n_s)-\\rho_s-I_s(2\\rho_s-1))=0 \\Leftrightarrow I_s=\\frac{Bn_s(1-\\rho_s)-\\rho_s}{2\\rho_s-1}$$\n",
    "\n",
    "Подставляя полученные выше результаты для уравнений (1) и (3) в (2) и упрощая, получаем:\n",
    "\n",
    "$$I_s=\\frac{J_{thr}B(1-\\rho_s)}{(2\\rho_s-1)(2B(1-\\rho_s)+1)}-\\frac{\\rho_s}{2\\rho_s-1}$$\n",
    "\n",
    "Обращаясь к условию $I_s>0$, можем использовать это выражение для расчета порогового параметра накачки и вернуться к расчету нормированного числа носителей заряда в смачивающем слое. Так получены следующие численные значения:\n",
    "\n",
    "$$\\rho_s=0.9273504273504274$$\n",
    "$$n_s=0.01823529411764707222$$\n",
    "$$J_{thr}=1.87293614881850187$$\n",
    "\n",
    "\n",
    "\n",
    "\n",
    "### Задачи 2-3"
   ]
  },
  {
   "cell_type": "markdown",
   "id": "2cd63a2d-976b-4aa6-8883-b8c7ca99985b",
   "metadata": {
    "id": "2cd63a2d-976b-4aa6-8883-b8c7ca99985b"
   },
   "source": [
    "Импорт необходимых библиотек"
   ]
  },
  {
   "cell_type": "code",
   "execution_count": 12,
   "id": "9f5cd96d-d430-4226-9501-2fa09a53d36a",
   "metadata": {
    "executionInfo": {
     "elapsed": 318,
     "status": "ok",
     "timestamp": 1645361004550,
     "user": {
      "displayName": "Gleb Zhuravlev",
      "photoUrl": "https://lh3.googleusercontent.com/a/default-user=s64",
      "userId": "00380851654043785944"
     },
     "user_tz": -180
    },
    "id": "9f5cd96d-d430-4226-9501-2fa09a53d36a"
   },
   "outputs": [],
   "source": [
    "from scipy.integrate import solve_ivp\n",
    "import matplotlib.pyplot as plt\n",
    "import numpy as np\n",
    "#import matplotlib as mpl\n",
    "#mpl.use('webagg')"
   ]
  },
  {
   "cell_type": "markdown",
   "id": "50aab893-8e13-4671-a219-c9d11cc7ce00",
   "metadata": {
    "id": "50aab893-8e13-4671-a219-c9d11cc7ce00"
   },
   "source": [
    "Определение системы"
   ]
  },
  {
   "cell_type": "code",
   "execution_count": 13,
   "id": "4cc45515-abc3-439a-8389-33950dea49ee",
   "metadata": {
    "executionInfo": {
     "elapsed": 255,
     "status": "ok",
     "timestamp": 1645361005151,
     "user": {
      "displayName": "Gleb Zhuravlev",
      "photoUrl": "https://lh3.googleusercontent.com/a/default-user=s64",
      "userId": "00380851654043785944"
     },
     "user_tz": -180
    },
    "id": "4cc45515-abc3-439a-8389-33950dea49ee"
   },
   "outputs": [],
   "source": [
    "def odes(t,y,B,f_a):\n",
    "    I, rho, n = y\n",
    "    F=B*n*(1-rho)\n",
    "    dydt=[I*(g*(2*rho-1)-1),\n",
    "          eta_d*(F-rho-I*(2*rho-1)),\n",
    "          eta_w*(J+delta_a*np.sin(2*np.pi*f_a*t)-n-2*F)]\n",
    "    return dydt"
   ]
  },
  {
   "cell_type": "markdown",
   "id": "8f902f97",
   "metadata": {
    "id": "50c22a36-fc9e-4be1-bdc0-c6e99ecc2bde"
   },
   "source": [
    "Параметры"
   ]
  },
  {
   "cell_type": "code",
   "execution_count": 14,
   "id": "b0dac097-d3b6-456a-a0f0-df47818c18bb",
   "metadata": {
    "executionInfo": {
     "elapsed": 289,
     "status": "ok",
     "timestamp": 1645361005187,
     "user": {
      "displayName": "Gleb Zhuravlev",
      "photoUrl": "https://lh3.googleusercontent.com/a/default-user=s64",
      "userId": "00380851654043785944"
     },
     "user_tz": -180
    },
    "id": "b0dac097-d3b6-456a-a0f0-df47818c18bb"
   },
   "outputs": [],
   "source": [
    "g=1.17\n",
    "J=4*1.87293614881850187\n",
    "B=700\n",
    "tau_d=0.9*10**(-9)\n",
    "tau_p=20*10**(-12)\n",
    "tau_w=1*10**(-9)\n",
    "eta_d=tau_p/tau_d\n",
    "eta_w=tau_p/tau_w\n",
    "delta_a=0.1*J"
   ]
  },
  {
   "cell_type": "markdown",
   "id": "c2077c78-9a89-41ae-ab31-c80613e8709c",
   "metadata": {
    "id": "c2077c78-9a89-41ae-ab31-c80613e8709c"
   },
   "source": [
    "Во второй лабораторной работе значение частоты определено как $f_{ro}=2.39\\text{ ГГц}$. Для перехода к нормированным единицам домножим на время жизни фотона в резонаторе:"
   ]
  },
  {
   "cell_type": "code",
   "execution_count": 15,
   "id": "1e45cfce-cdfa-4d09-8f8c-e15ffddd322a",
   "metadata": {
    "executionInfo": {
     "elapsed": 289,
     "status": "ok",
     "timestamp": 1645361005188,
     "user": {
      "displayName": "Gleb Zhuravlev",
      "photoUrl": "https://lh3.googleusercontent.com/a/default-user=s64",
      "userId": "00380851654043785944"
     },
     "user_tz": -180
    },
    "id": "1e45cfce-cdfa-4d09-8f8c-e15ffddd322a"
   },
   "outputs": [],
   "source": [
    "f=2.39*10**9*tau_p\n",
    "f_array=np.arange(0.05*f,1.25*f, (1.25*f-0.05*f)/20)"
   ]
  },
  {
   "cell_type": "markdown",
   "id": "768a5d45",
   "metadata": {},
   "source": [
    "Получен массив из 20 значений для дальнейшего расчета. Для определения временного промежутка найдем величину $\\frac{10}{f_A}$:"
   ]
  },
  {
   "cell_type": "code",
   "execution_count": 16,
   "id": "3fa16baf",
   "metadata": {},
   "outputs": [
    {
     "data": {
      "text/plain": [
       "209.2050209205021"
      ]
     },
     "execution_count": 16,
     "metadata": {},
     "output_type": "execute_result"
    }
   ],
   "source": [
    "10/f"
   ]
  },
  {
   "cell_type": "markdown",
   "id": "b52096c3",
   "metadata": {},
   "source": [
    "В соответствии со второй лабораторной и рассчитанной величиной вводим начальные значения и вектор времени:"
   ]
  },
  {
   "cell_type": "code",
   "execution_count": 17,
   "id": "896821e5-3915-4274-8b28-33f63c6a2f98",
   "metadata": {
    "executionInfo": {
     "elapsed": 306,
     "status": "ok",
     "timestamp": 1645361277184,
     "user": {
      "displayName": "Gleb Zhuravlev",
      "photoUrl": "https://lh3.googleusercontent.com/a/default-user=s64",
      "userId": "00380851654043785944"
     },
     "user_tz": -180
    },
    "id": "896821e5-3915-4274-8b28-33f63c6a2f98"
   },
   "outputs": [],
   "source": [
    "y0=(3.255,0.9273504273504274,0.01823529411764707222)\n",
    "t=np.linspace(0,209,2090)"
   ]
  },
  {
   "cell_type": "markdown",
   "id": "72bcfb58",
   "metadata": {},
   "source": [
    "Интегрирование системы с определением минимальных и максимальных значений интенсивности"
   ]
  },
  {
   "cell_type": "code",
   "execution_count": 20,
   "id": "f7e3e7b6",
   "metadata": {},
   "outputs": [],
   "source": [
    "I_min=np.empty(20)\n",
    "I_max=np.empty(20)\n",
    "for i in range(len(f_array)):\n",
    "    solution_ivp=solve_ivp(odes,t_span=[0,max(t)], t_eval=t, y0=y0, args=(B,f_array[i]), rtol=1e-8)\n",
    "    #print(i)\n",
    "    #print(solution_ivp.y[0])\n",
    "    #print(max(solution_ivp.y[0]))\n",
    "    #print(min(solution_ivp.y[0]))\n",
    "    I_min[i]=min(solution_ivp.y[0])\n",
    "    I_max[i]=max(solution_ivp.y[0])"
   ]
  },
  {
   "cell_type": "markdown",
   "id": "4a7f9844-bcfb-4307-8677-6cd5e8c0d9c5",
   "metadata": {
    "id": "4a7f9844-bcfb-4307-8677-6cd5e8c0d9c5"
   },
   "source": [
    "Переход к частотам в ГГц"
   ]
  },
  {
   "cell_type": "code",
   "execution_count": 21,
   "id": "5abaee5c-aca7-40f2-9969-67a24f25bdf7",
   "metadata": {
    "executionInfo": {
     "elapsed": 320,
     "status": "ok",
     "timestamp": 1645361283798,
     "user": {
      "displayName": "Gleb Zhuravlev",
      "photoUrl": "https://lh3.googleusercontent.com/a/default-user=s64",
      "userId": "00380851654043785944"
     },
     "user_tz": -180
    },
    "id": "5abaee5c-aca7-40f2-9969-67a24f25bdf7"
   },
   "outputs": [],
   "source": [
    "f_axis=f_array/(tau_p*10**9)"
   ]
  },
  {
   "cell_type": "markdown",
   "id": "408bf9e5-ee2b-4cb1-896d-4889e59f9b45",
   "metadata": {
    "id": "408bf9e5-ee2b-4cb1-896d-4889e59f9b45"
   },
   "source": [
    "График"
   ]
  },
  {
   "cell_type": "code",
   "execution_count": 22,
   "id": "2000ade9-e7de-4c55-bbaa-670d8ce1c035",
   "metadata": {
    "colab": {
     "base_uri": "https://localhost:8080/",
     "height": 295
    },
    "executionInfo": {
     "elapsed": 2089,
     "status": "ok",
     "timestamp": 1645361289117,
     "user": {
      "displayName": "Gleb Zhuravlev",
      "photoUrl": "https://lh3.googleusercontent.com/a/default-user=s64",
      "userId": "00380851654043785944"
     },
     "user_tz": -180
    },
    "id": "2000ade9-e7de-4c55-bbaa-670d8ce1c035",
    "outputId": "8dfd8cf3-aaa4-4c3d-eaae-9156b4e09fed"
   },
   "outputs": [
    {
     "data": {
      "image/png": "[encoded data removed]",
      "text/plain": [
       "<Figure size 432x288 with 1 Axes>"
      ]
     },
     "metadata": {
      "needs_background": "light"
     },
     "output_type": "display_data"
    }
   ],
   "source": [
    "plt.clf()\n",
    "plt.figure(1)\n",
    "plt.title('Зависимость интенсивности от частоты модуляции')\n",
    "plt.xlabel('f, ГГц')\n",
    "plt.ylabel('I(f), произв. ед.') \n",
    "plt.plot(f_axis, I_min, color='blue', label='$I_{min}$', marker='o')\n",
    "plt.plot(f_axis, I_max, color='red', label='$I_{max}$', marker='o')\n",
    "plt.legend(loc='best')\n",
    "plt.grid()\n",
    "plt.savefig('graph2.1.png',dpi=600)"
   ]
  }
 ],
 "metadata": {
  "colab": {
   "collapsed_sections": [],
   "name": "lab2.ipynb",
   "provenance": []
  },
  "kernelspec": {
   "display_name": "Python 3 (ipykernel)",
   "language": "python",
   "name": "python3"
  },
  "language_info": {
   "codemirror_mode": {
    "name": "ipython",
    "version": 3
   },
   "file_extension": ".py",
   "mimetype": "text/x-python",
   "name": "python",
   "nbconvert_exporter": "python",
   "pygments_lexer": "ipython3",
   "version": "3.9.7"
  },
  "toc-autonumbering": false,
  "toc-showmarkdowntxt": true,
  "toc-showtags": false
 },
 "nbformat": 4,
 "nbformat_minor": 5
}
